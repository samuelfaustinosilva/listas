{
 "cells": [
  {
   "cell_type": "markdown",
   "id": "bbcd5cc9",
   "metadata": {},
   "source": [
    "### Definição de Listas: É um objeto representado por uma sequência de outros objetos. Estes objetos são separados por vírgulas e iniciados e terminados por colchetes [ ] "
   ]
  },
  {
   "cell_type": "markdown",
   "id": "d1ea22d2",
   "metadata": {},
   "source": [
    "#### Criando listas"
   ]
  },
  {
   "cell_type": "code",
   "execution_count": 2,
   "id": "397ae2e5",
   "metadata": {},
   "outputs": [],
   "source": [
    "lista = [1,2,3]"
   ]
  },
  {
   "cell_type": "code",
   "execution_count": 3,
   "id": "51fd410c",
   "metadata": {},
   "outputs": [
    {
     "data": {
      "text/plain": [
       "[1, 2, 3]"
      ]
     },
     "execution_count": 3,
     "metadata": {},
     "output_type": "execute_result"
    }
   ],
   "source": [
    "lista"
   ]
  },
  {
   "cell_type": "code",
   "execution_count": 4,
   "id": "a66f994e",
   "metadata": {},
   "outputs": [
    {
     "data": {
      "text/plain": [
       "list"
      ]
     },
     "execution_count": 4,
     "metadata": {},
     "output_type": "execute_result"
    }
   ],
   "source": [
    "type(lista)"
   ]
  },
  {
   "cell_type": "code",
   "execution_count": 7,
   "id": "d5fc947c",
   "metadata": {},
   "outputs": [],
   "source": [
    "Lista2 = list((1,2,3))"
   ]
  },
  {
   "cell_type": "code",
   "execution_count": 8,
   "id": "bed3fa71",
   "metadata": {},
   "outputs": [
    {
     "data": {
      "text/plain": [
       "[1, 2, 3]"
      ]
     },
     "execution_count": 8,
     "metadata": {},
     "output_type": "execute_result"
    }
   ],
   "source": [
    "Lista2"
   ]
  },
  {
   "cell_type": "code",
   "execution_count": 9,
   "id": "0adde469",
   "metadata": {},
   "outputs": [],
   "source": [
    "Lista3 = list(\"123\")"
   ]
  },
  {
   "cell_type": "code",
   "execution_count": 10,
   "id": "91a334b9",
   "metadata": {},
   "outputs": [
    {
     "data": {
      "text/plain": [
       "['1', '2', '3']"
      ]
     },
     "execution_count": 10,
     "metadata": {},
     "output_type": "execute_result"
    }
   ],
   "source": [
    "Lista3"
   ]
  },
  {
   "cell_type": "code",
   "execution_count": 11,
   "id": "95a2a077",
   "metadata": {},
   "outputs": [],
   "source": [
    "Lista4 = []"
   ]
  },
  {
   "cell_type": "code",
   "execution_count": 12,
   "id": "ea1dad5a",
   "metadata": {},
   "outputs": [
    {
     "data": {
      "text/plain": [
       "[]"
      ]
     },
     "execution_count": 12,
     "metadata": {},
     "output_type": "execute_result"
    }
   ],
   "source": [
    "Lista4"
   ]
  },
  {
   "cell_type": "code",
   "execution_count": 13,
   "id": "86f288c6",
   "metadata": {},
   "outputs": [
    {
     "data": {
      "text/plain": [
       "0"
      ]
     },
     "execution_count": 13,
     "metadata": {},
     "output_type": "execute_result"
    }
   ],
   "source": [
    "len(Lista4)"
   ]
  },
  {
   "cell_type": "code",
   "execution_count": 18,
   "id": "b2c2313f",
   "metadata": {},
   "outputs": [
    {
     "data": {
      "text/plain": [
       "3"
      ]
     },
     "execution_count": 18,
     "metadata": {},
     "output_type": "execute_result"
    }
   ],
   "source": [
    "len(Lista2)"
   ]
  },
  {
   "cell_type": "code",
   "execution_count": 19,
   "id": "a57590af",
   "metadata": {},
   "outputs": [
    {
     "name": "stdout",
     "output_type": "stream",
     "text": [
      "0\n",
      "1\n",
      "[1, 2, 3, 1, 2, 3, 1, 2, 3, 1]\n",
      "2\n",
      "[1, 2, 3, 1, 2, 3, 1, 2, 3, 1, 2]\n",
      "3\n",
      "[1, 2, 3, 1, 2, 3, 1, 2, 3, 1, 2, 3]\n"
     ]
    }
   ],
   "source": [
    "for elemento in range(4):\n",
    "    print(elemento)\n",
    "    if elemento != 0:\n",
    "        Lista4.append(elemento)\n",
    "        print(Lista4)"
   ]
  },
  {
   "cell_type": "code",
   "execution_count": 20,
   "id": "c1f10eeb",
   "metadata": {},
   "outputs": [
    {
     "data": {
      "text/plain": [
       "[1, 2, 3, 1, 2, 3, 1, 2, 3, 1, 2, 3]"
      ]
     },
     "execution_count": 20,
     "metadata": {},
     "output_type": "execute_result"
    }
   ],
   "source": [
    "Lista4"
   ]
  },
  {
   "cell_type": "markdown",
   "id": "e48a76fd",
   "metadata": {},
   "source": [
    "### Acessando os valores da lista"
   ]
  },
  {
   "cell_type": "code",
   "execution_count": 21,
   "id": "eef19072",
   "metadata": {},
   "outputs": [
    {
     "data": {
      "text/plain": [
       "2"
      ]
     },
     "execution_count": 21,
     "metadata": {},
     "output_type": "execute_result"
    }
   ],
   "source": [
    "Lista2[1]"
   ]
  },
  {
   "cell_type": "code",
   "execution_count": 22,
   "id": "d0bf35cf",
   "metadata": {},
   "outputs": [
    {
     "data": {
      "text/plain": [
       "[1, 2, 3, '1', '2', '3']"
      ]
     },
     "execution_count": 22,
     "metadata": {},
     "output_type": "execute_result"
    }
   ],
   "source": [
    "Lista2 + Lista3"
   ]
  },
  {
   "cell_type": "code",
   "execution_count": 23,
   "id": "f6076d8d",
   "metadata": {},
   "outputs": [
    {
     "data": {
      "text/plain": [
       "['1', '2', '3', '1', '2', '3', '1', '2', '3', '1', '2', '3', '1', '2', '3']"
      ]
     },
     "execution_count": 23,
     "metadata": {},
     "output_type": "execute_result"
    }
   ],
   "source": [
    "Lista3*5"
   ]
  },
  {
   "cell_type": "markdown",
   "id": "d66ab572",
   "metadata": {},
   "source": [
    "### Verificar se um objeto pertence a  lista"
   ]
  },
  {
   "cell_type": "code",
   "execution_count": 25,
   "id": "c079bb5a",
   "metadata": {},
   "outputs": [
    {
     "data": {
      "text/plain": [
       "False"
      ]
     },
     "execution_count": 25,
     "metadata": {},
     "output_type": "execute_result"
    }
   ],
   "source": [
    "\"1\" in Lista2"
   ]
  },
  {
   "cell_type": "code",
   "execution_count": 26,
   "id": "b06f085b",
   "metadata": {},
   "outputs": [
    {
     "data": {
      "text/plain": [
       "True"
      ]
     },
     "execution_count": 26,
     "metadata": {},
     "output_type": "execute_result"
    }
   ],
   "source": [
    "1 in Lista2"
   ]
  },
  {
   "cell_type": "code",
   "execution_count": 27,
   "id": "b3827dae",
   "metadata": {},
   "outputs": [],
   "source": [
    "Lista5 = []"
   ]
  },
  {
   "cell_type": "code",
   "execution_count": 28,
   "id": "a901ae7b",
   "metadata": {},
   "outputs": [
    {
     "data": {
      "text/plain": [
       "[]"
      ]
     },
     "execution_count": 28,
     "metadata": {},
     "output_type": "execute_result"
    }
   ],
   "source": [
    "Lista5"
   ]
  },
  {
   "cell_type": "code",
   "execution_count": 29,
   "id": "7ee6f589",
   "metadata": {},
   "outputs": [
    {
     "name": "stdout",
     "output_type": "stream",
     "text": [
      "[0]\n",
      "[0, 1]\n",
      "[0, 1, 2]\n",
      "[0, 1, 2, 3]\n",
      "[0, 1, 2, 3, 4]\n"
     ]
    }
   ],
   "source": [
    "for elemento in range(5):\n",
    "    Lista5.append(elemento)\n",
    "    print(Lista5)"
   ]
  },
  {
   "cell_type": "code",
   "execution_count": 31,
   "id": "ce0ce353",
   "metadata": {},
   "outputs": [
    {
     "data": {
      "text/plain": [
       "[0, 1, 2, 3, 4]"
      ]
     },
     "execution_count": 31,
     "metadata": {},
     "output_type": "execute_result"
    }
   ],
   "source": [
    "Lista5"
   ]
  },
  {
   "cell_type": "code",
   "execution_count": 32,
   "id": "25ecfd56",
   "metadata": {},
   "outputs": [
    {
     "data": {
      "text/plain": [
       "True"
      ]
     },
     "execution_count": 32,
     "metadata": {},
     "output_type": "execute_result"
    }
   ],
   "source": [
    "3 in Lista5"
   ]
  },
  {
   "cell_type": "markdown",
   "id": "79e027f5",
   "metadata": {},
   "source": [
    "### Métodos"
   ]
  },
  {
   "cell_type": "code",
   "execution_count": 33,
   "id": "30ac7762",
   "metadata": {},
   "outputs": [
    {
     "data": {
      "text/plain": [
       "[0, 1, 2, 3, 4]"
      ]
     },
     "execution_count": 33,
     "metadata": {},
     "output_type": "execute_result"
    }
   ],
   "source": [
    "Lista5"
   ]
  },
  {
   "cell_type": "code",
   "execution_count": 34,
   "id": "7baef050",
   "metadata": {},
   "outputs": [
    {
     "data": {
      "text/plain": [
       "4"
      ]
     },
     "execution_count": 34,
     "metadata": {},
     "output_type": "execute_result"
    }
   ],
   "source": [
    "Lista5.pop()"
   ]
  },
  {
   "cell_type": "code",
   "execution_count": 35,
   "id": "c9ca1c0c",
   "metadata": {},
   "outputs": [
    {
     "data": {
      "text/plain": [
       "[0, 1, 2, 3]"
      ]
     },
     "execution_count": 35,
     "metadata": {},
     "output_type": "execute_result"
    }
   ],
   "source": [
    "Lista5"
   ]
  },
  {
   "cell_type": "code",
   "execution_count": 36,
   "id": "6ea41294",
   "metadata": {},
   "outputs": [
    {
     "data": {
      "text/plain": [
       "1"
      ]
     },
     "execution_count": 36,
     "metadata": {},
     "output_type": "execute_result"
    }
   ],
   "source": [
    "Lista5.pop(1)"
   ]
  },
  {
   "cell_type": "code",
   "execution_count": 37,
   "id": "03ce12b0",
   "metadata": {},
   "outputs": [
    {
     "data": {
      "text/plain": [
       "[0, 2, 3]"
      ]
     },
     "execution_count": 37,
     "metadata": {},
     "output_type": "execute_result"
    }
   ],
   "source": [
    "Lista5"
   ]
  },
  {
   "cell_type": "code",
   "execution_count": 38,
   "id": "c12dc0a2",
   "metadata": {},
   "outputs": [],
   "source": [
    "Lista5.remove(2)"
   ]
  },
  {
   "cell_type": "code",
   "execution_count": 39,
   "id": "bdbaffaf",
   "metadata": {},
   "outputs": [
    {
     "data": {
      "text/plain": [
       "[0, 3]"
      ]
     },
     "execution_count": 39,
     "metadata": {},
     "output_type": "execute_result"
    }
   ],
   "source": [
    "Lista5"
   ]
  },
  {
   "cell_type": "code",
   "execution_count": 40,
   "id": "1d768aff",
   "metadata": {},
   "outputs": [],
   "source": [
    "Lista6 = [5,8,9,6,3,2,0,1]"
   ]
  },
  {
   "cell_type": "code",
   "execution_count": 41,
   "id": "5ebce0b1",
   "metadata": {},
   "outputs": [
    {
     "data": {
      "text/plain": [
       "[5, 8, 9, 6, 3, 2, 0, 1]"
      ]
     },
     "execution_count": 41,
     "metadata": {},
     "output_type": "execute_result"
    }
   ],
   "source": [
    "Lista6"
   ]
  },
  {
   "cell_type": "code",
   "execution_count": 42,
   "id": "2570b0a0",
   "metadata": {},
   "outputs": [],
   "source": [
    "Lista6.sort()"
   ]
  },
  {
   "cell_type": "code",
   "execution_count": 43,
   "id": "d966ea6c",
   "metadata": {},
   "outputs": [
    {
     "data": {
      "text/plain": [
       "[0, 1, 2, 3, 5, 6, 8, 9]"
      ]
     },
     "execution_count": 43,
     "metadata": {},
     "output_type": "execute_result"
    }
   ],
   "source": [
    "Lista6"
   ]
  },
  {
   "cell_type": "code",
   "execution_count": 44,
   "id": "5bbe3a3c",
   "metadata": {},
   "outputs": [],
   "source": [
    "Lista6.sort(reverse=True)"
   ]
  },
  {
   "cell_type": "code",
   "execution_count": 45,
   "id": "459a011c",
   "metadata": {},
   "outputs": [
    {
     "data": {
      "text/plain": [
       "[9, 8, 6, 5, 3, 2, 1, 0]"
      ]
     },
     "execution_count": 45,
     "metadata": {},
     "output_type": "execute_result"
    }
   ],
   "source": [
    "Lista6"
   ]
  },
  {
   "cell_type": "code",
   "execution_count": 46,
   "id": "f6f48088",
   "metadata": {},
   "outputs": [
    {
     "data": {
      "text/plain": [
       "3"
      ]
     },
     "execution_count": 46,
     "metadata": {},
     "output_type": "execute_result"
    }
   ],
   "source": [
    "Lista6.index(5)"
   ]
  },
  {
   "cell_type": "code",
   "execution_count": 47,
   "id": "3b54cc0e",
   "metadata": {},
   "outputs": [
    {
     "data": {
      "text/plain": [
       "1"
      ]
     },
     "execution_count": 47,
     "metadata": {},
     "output_type": "execute_result"
    }
   ],
   "source": [
    "Lista6.count(5)"
   ]
  },
  {
   "cell_type": "code",
   "execution_count": null,
   "id": "39c2493b",
   "metadata": {},
   "outputs": [],
   "source": []
  }
 ],
 "metadata": {
  "kernelspec": {
   "display_name": "Python 3 (ipykernel)",
   "language": "python",
   "name": "python3"
  },
  "language_info": {
   "codemirror_mode": {
    "name": "ipython",
    "version": 3
   },
   "file_extension": ".py",
   "mimetype": "text/x-python",
   "name": "python",
   "nbconvert_exporter": "python",
   "pygments_lexer": "ipython3",
   "version": "3.11.5"
  }
 },
 "nbformat": 4,
 "nbformat_minor": 5
}
